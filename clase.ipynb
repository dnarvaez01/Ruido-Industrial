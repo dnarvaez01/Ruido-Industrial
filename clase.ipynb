{
 "cells": [
  {
   "cell_type": "code",
   "execution_count": 1,
   "metadata": {},
   "outputs": [],
   "source": [
    "import numpy as np\n",
    "import pandas as pd\n",
    "from typing import Optional, Tuple"
   ]
  },
  {
   "cell_type": "code",
   "execution_count": 2,
   "metadata": {},
   "outputs": [],
   "source": [
    "#Posiciones\n",
    "POSICION_FUENTES = {'F1':(289782,6363955,1.2),\n",
    "                    'F2':(289788,6363955,1.2),\n",
    "                    'F3':(289782,6363979,1.2),\n",
    "                    'FC':(289782,6363967,1.2)}\n",
    "POSICION_RECEPTORES = {'R1':(289827,6363825,1.5),\n",
    "                       'R2':(289398,6363754,1.5),\n",
    "                       'R3':(290587,6364355,1.5),\n",
    "                       'R4':(290736,6363776,1.5),\n",
    "                       'R5':(289782,6364017,1.5)}"
   ]
  },
  {
   "cell_type": "code",
   "execution_count": 3,
   "metadata": {},
   "outputs": [],
   "source": [
    "LW_FUENTES = {'F1':(65.1,78.3,87.6,96.4,99.8,99.1,94.3,84.4),\n",
    "              'F2':(65.1,78.3,87.6,96.4,99.8,99.1,94.3,84.4),\n",
    "              'F3':(53.1,66.2,75.7,84.1,87.3,87.5,82.3,72.2),\n",
    "              'FC':(68.25,81.44,90.75,99.54,102.93,102.26,97.45,87.54)}"
   ]
  },
  {
   "cell_type": "code",
   "execution_count": 4,
   "metadata": {},
   "outputs": [],
   "source": [
    "FREQ_OCT = [63,125,250,500,1000,2000,4000,8000]\n",
    "FREQ_TER = [50,63,80,100,125,160,200,250,315,400,500,630,800,1000,1250,1600,2000,2500,3150,4000,5000,6300,8000,10000]\n",
    "C = 343.3"
   ]
  },
  {
   "cell_type": "code",
   "execution_count": 5,
   "metadata": {},
   "outputs": [],
   "source": [
    "coeficiente_atm = pd.read_csv(\"coeficientes temperatura.txt\", delimiter=\" \")"
   ]
  },
  {
   "cell_type": "code",
   "execution_count": 6,
   "metadata": {},
   "outputs": [],
   "source": [
    "valores_humedad = coeficiente_atm['%'].values\n",
    "valores_temperatura = coeficiente_atm['°C'].values"
   ]
  },
  {
   "cell_type": "code",
   "execution_count": 7,
   "metadata": {},
   "outputs": [],
   "source": [
    "_lambda = C/np.array(FREQ_OCT)"
   ]
  },
  {
   "cell_type": "code",
   "execution_count": 9,
   "metadata": {},
   "outputs": [],
   "source": [
    "def distancia(posicion1:Tuple[float], posicion2:Tuple[float]):\n",
    "    posicion1 = np.array(posicion1)\n",
    "    posicion2 = np.array(posicion2)\n",
    "    return np.sqrt(((posicion1-posicion2)**2).sum())"
   ]
  },
  {
   "cell_type": "code",
   "execution_count": 10,
   "metadata": {},
   "outputs": [
    {
     "data": {
      "text/plain": [
       "439.1185375271693"
      ]
     },
     "execution_count": 10,
     "metadata": {},
     "output_type": "execute_result"
    }
   ],
   "source": [
    "distancia(POSICION_FUENTES['FC'],POSICION_RECEPTORES['R2'])"
   ]
  },
  {
   "cell_type": "code",
   "execution_count": 11,
   "metadata": {},
   "outputs": [],
   "source": [
    "def atenuacion_div(distancia, d0:int=1):\n",
    "    return 20*np.log10(distancia/d0)+11"
   ]
  },
  {
   "cell_type": "code",
   "execution_count": 12,
   "metadata": {},
   "outputs": [],
   "source": [
    "def alpha_atm(temperatura:int, humedad:int):\n",
    "    if humedad not in valores_humedad:\n",
    "        return f'el valor {humedad} no se encuentra en la tabla'\n",
    "    if temperatura not in valores_temperatura:\n",
    "        return f'el valor {temperatura} no se encuentra en la tabla'\n",
    "    return coeficiente_atm.loc[(coeficiente_atm['%']==humedad) &\n",
    "                                (coeficiente_atm['°C']==temperatura)].drop(columns=['%', '°C'])"
   ]
  },
  {
   "cell_type": "code",
   "execution_count": 13,
   "metadata": {},
   "outputs": [],
   "source": [
    "def atenuacion_atm(distancia:float, alpha):\n",
    "    return alpha*distancia/1000"
   ]
  },
  {
   "cell_type": "code",
   "execution_count": 14,
   "metadata": {},
   "outputs": [],
   "source": [
    "class Source:\n",
    "    def __init__(self, posicion:Tuple[float, float, float], lw:float) -> None:\n",
    "        self.posicion = posicion\n",
    "        self.lw = lw\n",
    "        self.altura = posicion[-1]\n",
    "\n",
    "    @property\n",
    "    def get_pos(self):\n",
    "        return self.posicion[0], self.posicion[2]"
   ]
  },
  {
   "cell_type": "code",
   "execution_count": 15,
   "metadata": {},
   "outputs": [],
   "source": [
    "class Receiver:\n",
    "    def __init__(self, posicion:Tuple[float, float, float]) -> None:\n",
    "        self.posicion = posicion\n",
    "        self.altura = posicion[-1]\n",
    "\n",
    "    @property\n",
    "    def get_pos(self):\n",
    "        return self.posicion[0], self.posicion[2]\n",
    "    "
   ]
  },
  {
   "cell_type": "code",
   "execution_count": 16,
   "metadata": {},
   "outputs": [],
   "source": [
    "class AtenuacionPiso:\n",
    "    def __init__(self, h:float, g:float, dp:float) -> None:\n",
    "        self.h = h\n",
    "        self.g = g\n",
    "        self.dp = dp\n",
    "        self.__calculate_functions__()\n",
    "\n",
    "    def __calculate_functions__(self):\n",
    "        self.a = 1.5 + 3*np.exp(-0.12*(self.h-5)**2)*(1-np.exp(-self.dp/50))+5.7*np.exp(-0.09*self.h**2)*(1-np.exp(-2.8*10**(-6*self.dp**2)))\n",
    "        self.b = 1.5 + 8.6*np.exp(-0.09*self.h**2)*(1-np.exp(-self.dp/50))\n",
    "        self.c = 1.5 + 14*np.exp(-0.46*self.h**2)*(1-np.exp(-self.dp/50))\n",
    "        self.d = 1.5 + 5*np.exp(-0.9*self.h**2)*(1-np.exp(-self.dp/50))\n",
    "\n",
    "    def a_octava(self):\n",
    "        a_63 = 1.5\n",
    "        a_125 = -1.5+self.g*self.a\n",
    "        a_250 = -1.5+self.g*self.b\n",
    "        a_500 = -1.5+self.g*self.c\n",
    "        a_1000 = -1.5+self.g*self.d\n",
    "        a_2000 = -1.5*(1-self.g)\n",
    "        a_4000 = -1.5*(1-self.g)\n",
    "        a_8000 = -1.5*(1-self.g)\n",
    "        return np.array([a_63, a_125, a_250, a_500, a_1000, a_2000, a_4000, a_8000])\n",
    "    "
   ]
  },
  {
   "cell_type": "code",
   "execution_count": 17,
   "metadata": {},
   "outputs": [],
   "source": [
    "class AGround:\n",
    "    def __init__(self, g_source:float, g_middle:float, g_receiver:float, source:Source, receiver:Receiver) -> None:\n",
    "        self.g_source = g_source\n",
    "        self.g_middle = g_middle\n",
    "        self.g_receiver = g_receiver\n",
    "        self.source = source\n",
    "        self.receiver = receiver \n",
    "        \n",
    "    @property\n",
    "    def source_region(self):\n",
    "        return 30*self.source.altura\n",
    "    \n",
    "    @property\n",
    "    def receiver_region(self):\n",
    "        return 30*self.receiver.altura\n",
    "    \n",
    "    @property\n",
    "    def dp(self):\n",
    "        return distancia(self.source.posicion[:2],self.receiver.posicion[:2])\n",
    "    \n",
    "    @property\n",
    "    def middle_region(self):\n",
    "        result = self.dp-self.source_region-self.receiver_region\n",
    "        return result if result>0 else None\n",
    "    \n",
    "    def a_s(self):\n",
    "        calculos_as = AtenuacionPiso(self.source.altura, self.g_source, self.dp)\n",
    "        return calculos_as.a_octava()\n",
    "    def a_r(self):\n",
    "        calculos_ar = AtenuacionPiso(self.receiver.altura, self.g_receiver, self.dp)\n",
    "        return calculos_ar.a_octava()\n",
    "    def a_m(self):\n",
    "        q = 1 - 30*(self.source.altura+self.receiver.altura)/self.dp if self.middle_region else 0\n",
    "        return np.array([-3*q**2,\n",
    "                         -3*q*1-self.g_middle,\n",
    "                         -3*q*1-self.g_middle,\n",
    "                         -3*q*1-self.g_middle,\n",
    "                         -3*q*1-self.g_middle,\n",
    "                         -3*q*1-self.g_middle,\n",
    "                         -3*q*1-self.g_middle,\n",
    "                         -3*q*1-self.g_middle])\n",
    "    \n",
    "    @property\n",
    "    def get_atenuacion(self):\n",
    "        return self.a_s() + self.a_r() + self.a_m()"
   ]
  },
  {
   "cell_type": "code",
   "execution_count": 18,
   "metadata": {},
   "outputs": [],
   "source": [
    "class Barrera:\n",
    "    def __init__(self, x:float, altura:float, espesor:Optional[float]=0) -> None:\n",
    "        self.x = x\n",
    "        self.altura = altura\n",
    "        self.espesor = espesor\n",
    "    \n",
    "    @property\n",
    "    def get_pos(self):\n",
    "        return self.x, self.altura\n",
    "    \n",
    "    @property\n",
    "    def get_delta_pos(self):\n",
    "        return self.x + self.espesor, self.altura\n",
    "    "
   ]
  },
  {
   "cell_type": "code",
   "execution_count": 19,
   "metadata": {},
   "outputs": [],
   "source": [
    "class AtenuacionBarrera:\n",
    "    def __init__(self, barrera:Barrera, receiver:Receiver, source:Source) -> None:\n",
    "        self.receiver = receiver\n",
    "        self.source = source\n",
    "        self.barrera = barrera\n",
    "        self.e = barrera.espesor\n",
    "        self.c2 = 20\n",
    "\n",
    "    @property\n",
    "    def dss(self):\n",
    "        return distancia(self.source.get_pos, self.barrera.get_pos)\n",
    "    \n",
    "    @property\n",
    "    def dsr(self):\n",
    "        return distancia(self.barrera.get_delta_pos, self.receiver.get_pos)\n",
    "    \n",
    "    @property\n",
    "    def d(self):\n",
    "        return distancia(self.receiver.get_pos, self.source.get_pos)\n",
    "    \n",
    "    @property\n",
    "    def a(self):\n",
    "        return np.abs(self.receiver.altura - self.source.altura)\n",
    "    \n",
    "    @property\n",
    "    def z(self):\n",
    "        return np.sqrt((self.dss+self.dsr+self.e)**2+(self.a)**2)-self.d\n",
    "    \n",
    "    @property\n",
    "    def kmet(self):\n",
    "        return np.exp(-(1/2000)*np.sqrt(\n",
    "            self.dss*self.dsr*self.d/(2*self.z))) if self.z>0 else 1\n",
    "    \n",
    "    def _c3_(self, _lambda): \n",
    "        return ((1+(5*_lambda/self.e)**2)/(1/3+(5*_lambda/self.e)**2)) if self.e!=0 else 1\n",
    "    \n",
    "    def _dz_(self, _lambda):\n",
    "        return 10*np.log10(3+(self.c2/_lambda)*self._c3_(_lambda)*self.z*self.kmet)\n",
    "    "
   ]
  },
  {
   "cell_type": "code",
   "execution_count": 20,
   "metadata": {},
   "outputs": [],
   "source": [
    "class AtenuacionMain:\n",
    "    def __init__(self, receiver:Receiver, source:Source, barrera:Optional[Barrera]=None) -> None:\n",
    "        self.receiver = receiver\n",
    "        self.source = source\n",
    "        self.barrera = barrera\n",
    "    \n",
    "    "
   ]
  },
  {
   "cell_type": "code",
   "execution_count": 21,
   "metadata": {},
   "outputs": [],
   "source": [
    "barrera = Barrera(30, 3)\n",
    "receptor1 = Receiver(POSICION_RECEPTORES['R1'])\n",
    "fuente = Source(POSICION_FUENTES['FC'], LW_FUENTES['FC'])"
   ]
  },
  {
   "cell_type": "code",
   "execution_count": null,
   "metadata": {},
   "outputs": [],
   "source": []
  },
  {
   "cell_type": "code",
   "execution_count": 24,
   "metadata": {},
   "outputs": [],
   "source": [
    "abar = AtenuacionBarrera(barrera, receptor1, fuente)"
   ]
  },
  {
   "cell_type": "code",
   "execution_count": 29,
   "metadata": {},
   "outputs": [
    {
     "data": {
      "text/plain": [
       "<bound method AtenuacionBarrera._dz_ of <__main__.AtenuacionBarrera object at 0x000001F41F885E10>>"
      ]
     },
     "execution_count": 29,
     "metadata": {},
     "output_type": "execute_result"
    }
   ],
   "source": []
  },
  {
   "cell_type": "code",
   "execution_count": null,
   "metadata": {},
   "outputs": [
    {
     "data": {
      "text/plain": [
       "array([ 3.        , -0.64244502,  2.6407284 ,  1.57790975, -0.65789601,\n",
       "       -1.        , -1.        , -1.        ])"
      ]
     },
     "execution_count": 100,
     "metadata": {},
     "output_type": "execute_result"
    }
   ],
   "source": [
    "a = AGround(0, 1, 0.5,fuente1, receptor1 )\n",
    "a.get_atenuacion"
   ]
  },
  {
   "cell_type": "code",
   "execution_count": null,
   "metadata": {},
   "outputs": [
    {
     "data": {
      "text/plain": [
       "0.015"
      ]
     },
     "execution_count": 12,
     "metadata": {},
     "output_type": "execute_result"
    }
   ],
   "source": [
    "a.e"
   ]
  },
  {
   "cell_type": "code",
   "execution_count": null,
   "metadata": {},
   "outputs": [
    {
     "data": {
      "text/plain": [
       "array([ 6.23082551,  7.3060101 ,  8.89610994, 10.97296653, 13.42876341,\n",
       "       16.13332159, 18.98451202, 21.92208322])"
      ]
     },
     "execution_count": 13,
     "metadata": {},
     "output_type": "execute_result"
    }
   ],
   "source": [
    "a._dz_(_lambda)"
   ]
  },
  {
   "cell_type": "code",
   "execution_count": null,
   "metadata": {},
   "outputs": [
    {
     "data": {
      "text/plain": [
       "(30, 3)"
      ]
     },
     "execution_count": 14,
     "metadata": {},
     "output_type": "execute_result"
    }
   ],
   "source": [
    "barrera.get_pos"
   ]
  }
 ],
 "metadata": {
  "kernelspec": {
   "display_name": "udemy",
   "language": "python",
   "name": "udemy"
  },
  "language_info": {
   "codemirror_mode": {
    "name": "ipython",
    "version": 3
   },
   "file_extension": ".py",
   "mimetype": "text/x-python",
   "name": "python",
   "nbconvert_exporter": "python",
   "pygments_lexer": "ipython3",
   "version": "3.11.0"
  },
  "orig_nbformat": 4
 },
 "nbformat": 4,
 "nbformat_minor": 2
}
