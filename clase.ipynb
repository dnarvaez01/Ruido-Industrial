{
 "cells": [
  {
   "cell_type": "code",
   "execution_count": 1,
   "metadata": {},
   "outputs": [],
   "source": [
    "import numpy as np\n",
    "from typing import Optional, Tuple"
   ]
  },
  {
   "cell_type": "code",
   "execution_count": 2,
   "metadata": {},
   "outputs": [],
   "source": [
    "FREQ_OCT = [63,125,250,500,1000,2000,4000,8000]\n",
    "FREQ_TER = [50,63,80,100,125,160,200,250,315,400,500,630,800,1000,1250,1600,2000,2500,3150,4000,5000,6300,8000,10000]\n",
    "C = 343.3"
   ]
  },
  {
   "cell_type": "code",
   "execution_count": 3,
   "metadata": {},
   "outputs": [],
   "source": [
    "_lambda = C/np.array(FREQ_OCT)"
   ]
  },
  {
   "cell_type": "code",
   "execution_count": 20,
   "metadata": {},
   "outputs": [
    {
     "data": {
      "text/plain": [
       "array([5.44920635, 2.7464    , 1.3732    , 0.6866    , 0.3433    ,\n",
       "       0.17165   , 0.085825  , 0.0429125 ])"
      ]
     },
     "execution_count": 20,
     "metadata": {},
     "output_type": "execute_result"
    }
   ],
   "source": [
    "_lambda"
   ]
  },
  {
   "cell_type": "code",
   "execution_count": 4,
   "metadata": {},
   "outputs": [],
   "source": [
    "def distancia(posicion1, posicion2):\n",
    "    posicion1 = np.array(posicion1)\n",
    "    posicion2 = np.array(posicion2)\n",
    "    return np.sqrt(((posicion1-posicion2)**2).sum())"
   ]
  },
  {
   "cell_type": "code",
   "execution_count": 5,
   "metadata": {},
   "outputs": [],
   "source": [
    "class Source:\n",
    "    def __init__(self, posicion:Tuple[float, float, float], lw:float) -> None:\n",
    "        self.posicion = posicion\n",
    "        self.lw = lw\n",
    "        self.altura = posicion[-1]\n",
    "\n",
    "    @property\n",
    "    def get_pos(self):\n",
    "        return self.posicion[0], self.posicion[2]"
   ]
  },
  {
   "cell_type": "code",
   "execution_count": 6,
   "metadata": {},
   "outputs": [],
   "source": [
    "class Receiver:\n",
    "    def __init__(self, posicion:Tuple[float, float, float]) -> None:\n",
    "        self.posicion = posicion\n",
    "        self.altura = posicion[-1]\n",
    "\n",
    "    @property\n",
    "    def get_pos(self):\n",
    "        return self.posicion[0], self.posicion[2]\n",
    "    "
   ]
  },
  {
   "cell_type": "code",
   "execution_count": 7,
   "metadata": {},
   "outputs": [],
   "source": [
    "class Barrera:\n",
    "    def __init__(self, x:float, altura:float, espesor:Optional[float]=0) -> None:\n",
    "        self.x = x\n",
    "        self.altura = altura\n",
    "        self.espesor = espesor\n",
    "    \n",
    "    @property\n",
    "    def get_pos(self):\n",
    "        return self.x, self.altura\n",
    "    \n",
    "    @property\n",
    "    def get_delta_pos(self):\n",
    "        return self.x + self.espesor, self.altura\n",
    "    "
   ]
  },
  {
   "cell_type": "code",
   "execution_count": 25,
   "metadata": {},
   "outputs": [],
   "source": [
    "class AtenuacionBarrera:\n",
    "    def __init__(self, barrera:Barrera, receiver:Receiver, source:Source) -> None:\n",
    "        self.receiver = receiver\n",
    "        self.source = source\n",
    "        self.barrera = barrera\n",
    "        self.e = barrera.espesor\n",
    "        self.c2 = 20\n",
    "\n",
    "    @property\n",
    "    def dss(self):\n",
    "        return distancia(self.source.get_pos, self.barrera.get_pos)\n",
    "    \n",
    "    @property\n",
    "    def dsr(self):\n",
    "        return distancia(self.barrera.get_delta_pos, self.receiver.get_pos)\n",
    "    \n",
    "    @property\n",
    "    def d(self):\n",
    "        return distancia(self.receiver.get_pos, self.source.get_pos)\n",
    "    \n",
    "    @property\n",
    "    def a(self):\n",
    "        return np.abs(self.receiver.altura - self.source.altura)\n",
    "    \n",
    "    @property\n",
    "    def z(self):\n",
    "        return np.sqrt((self.dss+self.dsr+self.e)**2+(self.a)**2)-self.d\n",
    "    \n",
    "    @property\n",
    "    def kmet(self):\n",
    "        return np.exp(-(1/2000)*np.sqrt(\n",
    "            self.dss*self.dsr*self.d/(2*self.z))) if self.z>0 else 1\n",
    "    \n",
    "    def _c3_(self, _lambda): \n",
    "        return ((1+(5*_lambda/self.e)**2)/(1/3+(5*_lambda/self.e)**2)) if self.e!=0 else 1\n",
    "    \n",
    "    def _dz_(self, _lambda):\n",
    "        return 10*np.log10(3+(self.c2/_lambda)*self._c3_(_lambda)*self.z*self.kmet)\n",
    "    "
   ]
  },
  {
   "cell_type": "code",
   "execution_count": 9,
   "metadata": {},
   "outputs": [],
   "source": [
    "barrera = Barrera(30, 3, 0.015)\n",
    "receptor1 = Receiver((40, 2, 1.5))\n",
    "fuente1 = Source((25, 2, 1.5), 104)"
   ]
  },
  {
   "cell_type": "code",
   "execution_count": 26,
   "metadata": {},
   "outputs": [],
   "source": [
    "a = AtenuacionBarrera(barrera, receptor1, fuente1)"
   ]
  },
  {
   "cell_type": "code",
   "execution_count": 28,
   "metadata": {},
   "outputs": [
    {
     "data": {
      "text/plain": [
       "0.015"
      ]
     },
     "execution_count": 28,
     "metadata": {},
     "output_type": "execute_result"
    }
   ],
   "source": [
    "a.e"
   ]
  },
  {
   "cell_type": "code",
   "execution_count": null,
   "metadata": {},
   "outputs": [
    {
     "data": {
      "text/plain": [
       "array([17.71811177, 20.58312139, 23.53609562, 26.51748246, 29.51339796,\n",
       "       32.51706703, 35.52636476, 38.54540471])"
      ]
     },
     "execution_count": 41,
     "metadata": {},
     "output_type": "execute_result"
    }
   ],
   "source": [
    "a._dz_(_lambda)"
   ]
  },
  {
   "cell_type": "code",
   "execution_count": null,
   "metadata": {},
   "outputs": [
    {
     "data": {
      "text/plain": [
       "(30, 3)"
      ]
     },
     "execution_count": 16,
     "metadata": {},
     "output_type": "execute_result"
    }
   ],
   "source": [
    "barrera.get_pos"
   ]
  },
  {
   "cell_type": "code",
   "execution_count": null,
   "metadata": {},
   "outputs": [],
   "source": []
  }
 ],
 "metadata": {
  "kernelspec": {
   "display_name": "udemy",
   "language": "python",
   "name": "udemy"
  },
  "language_info": {
   "codemirror_mode": {
    "name": "ipython",
    "version": 3
   },
   "file_extension": ".py",
   "mimetype": "text/x-python",
   "name": "python",
   "nbconvert_exporter": "python",
   "pygments_lexer": "ipython3",
   "version": "3.11.0"
  },
  "orig_nbformat": 4
 },
 "nbformat": 4,
 "nbformat_minor": 2
}
