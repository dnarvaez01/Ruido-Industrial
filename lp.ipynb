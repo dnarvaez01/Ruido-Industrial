{
 "cells": [
  {
   "cell_type": "code",
   "execution_count": 3,
   "id": "934d8de5",
   "metadata": {},
   "outputs": [],
   "source": [
    "import numpy as np"
   ]
  },
  {
   "cell_type": "code",
   "execution_count": 4,
   "id": "dd3af1de",
   "metadata": {},
   "outputs": [],
   "source": [
    "FREQ_OCT = [63,125,250,500,1000,2000,4000,8000]\n",
    "FREQ_TER = [50,63,80,100,125,160,200,250,315,400,500,630,800,1000,1250,1600,2000,2500,3150,4000,5000,6300,8000,10000]"
   ]
  },
  {
   "cell_type": "code",
   "execution_count": 5,
   "id": "28ade353",
   "metadata": {},
   "outputs": [],
   "source": [
    "#Posiciones\n",
    "POSICION_FUENTES = {'F1':(289782,6363955,1.2),\n",
    "                    'F2':(289788,6363955,1.2),\n",
    "                    'F3':(289782,6363979,1.2)}\n",
    "POSICION_RECEPTORES = {'R1':(289827,6363825,1.5),\n",
    "                       'R2':(289398,6363754,1.5),\n",
    "                       'R3':(290587,6364355,1.5),\n",
    "                       'R4':(290736,6363776,1.5)}"
   ]
  },
  {
   "cell_type": "code",
   "execution_count": 6,
   "id": "be06962b",
   "metadata": {},
   "outputs": [],
   "source": [
    "lw1 = (65.1,78.3,87.6,96.4,99.8,99.1,94.3,84.4)\n",
    "lw2 = (65.1,78.3,87.6,96.4,99.8,99.1,94.3,84.4)\n",
    "lw3 = (53.1,66.2,75.7,84.1,87.3,87.5,82.3,72.2)"
   ]
  },
  {
   "cell_type": "code",
   "execution_count": 17,
   "id": "24b2a468",
   "metadata": {},
   "outputs": [],
   "source": [
    "#Nivel de potencia \n",
    "LW_FUENTES = {'F1':lw1,'F2':lw2,'F3':lw3}\n"
   ]
  },
  {
   "cell_type": "code",
   "execution_count": 34,
   "id": "02f7856b",
   "metadata": {},
   "outputs": [],
   "source": [
    "def distancia(posicion1, posicion2):\n",
    "    posicion1 = np.array(posicion1)\n",
    "    posicion2 = np.array(posicion2)\n",
    "    return np.sqrt(((posicion1-posicion2)**2).sum())"
   ]
  },
  {
   "cell_type": "code",
   "execution_count": 52,
   "id": "26ca8c75",
   "metadata": {},
   "outputs": [],
   "source": [
    "def lp(lw, distancia, piso_reflectante=False):\n",
    "    if isinstance(lw, tuple):\n",
    "        lw = np.array(lw)\n",
    "    if piso_reflectante:\n",
    "        nivel = lw-10*np.log10(2*np.pi*(distancia**2))\n",
    "    else:\n",
    "        nivel = lw-10*np.log10(4*np.pi*(distancia**2))\n",
    "    for indx,nps in enumerate(nivel):\n",
    "        if nps < 0:\n",
    "            nivel[indx] = 0\n",
    "    return nivel"
   ]
  },
  {
   "cell_type": "code",
   "execution_count": 54,
   "id": "d3c662eb",
   "metadata": {},
   "outputs": [],
   "source": [
    "def lp_fuentes(posicion_receptor):\n",
    "    niveles = dict()\n",
    "    for fuente in POSICION_FUENTES:\n",
    "        niveles[fuente] = lp(LW_FUENTES[fuente], distancia(POSICION_FUENTES[fuente], posicion_receptor))\n",
    "    return niveles"
   ]
  },
  {
   "cell_type": "code",
   "execution_count": 65,
   "id": "e1ac7438",
   "metadata": {},
   "outputs": [],
   "source": [
    "def suma_niveles(niveles):\n",
    "    return 10*np.log10((10**(niveles/10)).sum())"
   ]
  },
  {
   "cell_type": "code",
   "execution_count": 72,
   "id": "cd86282c",
   "metadata": {},
   "outputs": [],
   "source": [
    "alo = np.array([54,68.2,51.1,56.3,51.9])\n",
    "ola = np.array([[alo],[alo]])"
   ]
  },
  {
   "cell_type": "code",
   "execution_count": 73,
   "id": "527e5364",
   "metadata": {},
   "outputs": [
    {
     "data": {
      "text/plain": [
       "71.8003460401522"
      ]
     },
     "execution_count": 73,
     "metadata": {},
     "output_type": "execute_result"
    }
   ],
   "source": [
    "suma_niveles(ola)"
   ]
  },
  {
   "cell_type": "code",
   "execution_count": 74,
   "id": "58698545",
   "metadata": {},
   "outputs": [],
   "source": [
    "def suma_fuentes(lp_fuentes):\n",
    "    aux = []\n",
    "    for niveles in lp_fuentes.values():\n",
    "        aux.append(niveles)\n",
    "    matriz = np.stack(aux,axis=-1)\n",
    "    niveles = []\n",
    "    for lp in matriz:\n",
    "        niveles.append(round(suma_niveles(lp),1))\n",
    "    return np.transpose(niveles)"
   ]
  },
  {
   "cell_type": "code",
   "execution_count": 82,
   "id": "9d313019",
   "metadata": {},
   "outputs": [
    {
     "data": {
      "text/plain": [
       "array([ 4.8, 11. , 20. , 28.8, 32.2, 31.5, 26.7, 16.8])"
      ]
     },
     "execution_count": 82,
     "metadata": {},
     "output_type": "execute_result"
    }
   ],
   "source": [
    "suma_fuentes(lpr4)\n"
   ]
  },
  {
   "cell_type": "code",
   "execution_count": 77,
   "id": "88243431",
   "metadata": {},
   "outputs": [],
   "source": [
    "lpr1 = lp_fuentes(POSICION_RECEPTORES['R1'])\n",
    "lpr2 = lp_fuentes(POSICION_RECEPTORES['R2'])\n",
    "lpr3 = lp_fuentes(POSICION_RECEPTORES['R3'])\n",
    "lpr4 = lp_fuentes(POSICION_RECEPTORES['R4'])"
   ]
  },
  {
   "cell_type": "code",
   "execution_count": 78,
   "id": "55d94726",
   "metadata": {},
   "outputs": [
    {
     "name": "stdout",
     "output_type": "stream",
     "text": [
      "lpr1={'F1': array([11.33752182, 24.53752182, 33.83752182, 42.63752182, 46.03752182,\n",
      "       45.33752182, 40.53752182, 30.63752182]), 'F2': array([11.45474812, 24.65474812, 33.95474812, 42.75474812, 46.15474812,\n",
      "       45.45474812, 40.65474812, 30.75474812]), 'F3': array([ 0.        , 11.10163203, 20.60163203, 29.00163203, 32.20163203,\n",
      "       32.40163203, 27.20163203, 17.10163203])}\n",
      "lpr2={'F1': array([ 1.36962545, 14.56962545, 23.86962545, 32.66962545, 36.06962545,\n",
      "       35.36962545, 30.56962545, 20.66962545]), 'F2': array([ 1.26356943, 14.46356943, 23.76356943, 32.56356943, 35.96356943,\n",
      "       35.26356943, 30.46356943, 20.56356943]), 'F3': array([ 0.        ,  2.23947119, 11.73947119, 20.13947119, 23.33947119,\n",
      "       23.53947119, 18.33947119,  8.23947119])}\n",
      "lpr3={'F1': array([ 0.       ,  8.2336529, 17.5336529, 26.3336529, 29.7336529,\n",
      "       29.0336529, 24.2336529, 14.3336529]), 'F2': array([ 0.        ,  8.28569015, 17.58569015, 26.38569015, 29.78569015,\n",
      "       29.08569015, 24.28569015, 14.38569015]), 'F3': array([ 0.        ,  0.        ,  5.73492414, 14.13492414, 17.33492414,\n",
      "       17.53492414, 12.33492414,  2.23492414])}\n",
      "lpr4={'F1': array([ 0.        ,  7.56666815, 16.86666815, 25.66666815, 29.06666815,\n",
      "       28.36666815, 23.56666815, 13.66666815]), 'F2': array([ 0.        ,  7.61959382, 16.91959382, 25.71959382, 29.11959382,\n",
      "       28.41959382, 23.61959382, 13.71959382]), 'F3': array([ 0.        ,  0.        ,  4.92461185, 13.32461185, 16.52461185,\n",
      "       16.72461185, 11.52461185,  1.42461185])}\n"
     ]
    }
   ],
   "source": [
    "print(f'{lpr1=}\\n{lpr2=}\\n{lpr3=}\\n{lpr4=}')"
   ]
  },
  {
   "cell_type": "code",
   "execution_count": 83,
   "id": "b2362c47",
   "metadata": {},
   "outputs": [],
   "source": [
    "lp1 = suma_fuentes(lpr1)\n",
    "lp2 = suma_fuentes(lpr2)\n",
    "lp3 = suma_fuentes(lpr3)\n",
    "lp4 = suma_fuentes(lpr4)"
   ]
  },
  {
   "cell_type": "code",
   "execution_count": 85,
   "id": "2a56e9a4",
   "metadata": {},
   "outputs": [
    {
     "name": "stdout",
     "output_type": "stream",
     "text": [
      "lp1 = array([14.6, 27.7, 37. , 45.8, 49.2, 48.5, 43.7, 33.8])\n",
      "lp2 = array([ 5.7, 17.7, 27. , 35.7, 39.1, 38.5, 33.7, 23.8])\n",
      "lp3 = array([ 4.8, 11.6, 20.7, 29.5, 32.9, 32.2, 27.4, 17.5])\n",
      "lp4 = array([ 4.8, 11. , 20. , 28.8, 32.2, 31.5, 26.7, 16.8])\n"
     ]
    }
   ],
   "source": [
    "print(f'{lp1 = }\\n{lp2 = }\\n{lp3 = }\\n{lp4 = }')"
   ]
  },
  {
   "cell_type": "code",
   "execution_count": 16,
   "id": "8295daef",
   "metadata": {},
   "outputs": [
    {
     "ename": "IndentationError",
     "evalue": "unexpected indent (2108501388.py, line 8)",
     "output_type": "error",
     "traceback": [
      "\u001b[1;36m  Cell \u001b[1;32mIn[16], line 8\u001b[1;36m\u001b[0m\n\u001b[1;33m    diccionario[frecuencias]\u001b[0m\n\u001b[1;37m    ^\u001b[0m\n\u001b[1;31mIndentationError\u001b[0m\u001b[1;31m:\u001b[0m unexpected indent\n"
     ]
    }
   ],
   "source": [
    "#freq_oct=[63,125,250,500,1000,2000,4000,8000]\n",
    "#freq_ter=[50,63,80,100,125,160,200,250,315,400,500,630,800,1000,1250,1600,2000,2500,3150,4000,5000,6300,8000,10000]\n",
    "#lp_freq_oct=[]\n",
    "\n",
    "#diccionario=dict()\n",
    "\n",
    "#for n in freq_oct:\n",
    "    diccionario[frecuencias]"
   ]
  },
  {
   "cell_type": "code",
   "execution_count": null,
   "id": "252822d0",
   "metadata": {},
   "outputs": [],
   "source": []
  }
 ],
 "metadata": {
  "kernelspec": {
   "display_name": "udemy",
   "language": "python",
   "name": "udemy"
  },
  "language_info": {
   "codemirror_mode": {
    "name": "ipython",
    "version": 3
   },
   "file_extension": ".py",
   "mimetype": "text/x-python",
   "name": "python",
   "nbconvert_exporter": "python",
   "pygments_lexer": "ipython3",
   "version": "3.11.0"
  },
  "vscode": {
   "interpreter": {
    "hash": "a215b56482ebc72680e1ba575b565bd9c8d4696fc6cc46696a4deb64ded12246"
   }
  }
 },
 "nbformat": 4,
 "nbformat_minor": 5
}
