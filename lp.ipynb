{
 "cells": [
  {
   "cell_type": "code",
   "execution_count": 1,
   "id": "934d8de5",
   "metadata": {},
   "outputs": [],
   "source": [
    "import numpy as np"
   ]
  },
  {
   "cell_type": "code",
   "execution_count": 51,
   "id": "dd3af1de",
   "metadata": {},
   "outputs": [],
   "source": [
    "FREQ_OCT = ['63','125','250','500','1000','2000','4000','8000']\n",
    "FREQ_TER = [50,63,80,100,125,160,200,250,315,400,500,630,800,1000,1250,1600,2000,2500,3150,4000,5000,6300,8000,10000]"
   ]
  },
  {
   "cell_type": "code",
   "execution_count": 3,
   "id": "28ade353",
   "metadata": {},
   "outputs": [],
   "source": [
    "#Posiciones\n",
    "POSICION_FUENTES = {'F1':(289782,6363955,0),\n",
    "                    'F2':(289788,6363955,0),\n",
    "                    'F3':(289782,6363979,0)}\n",
    "POSICION_RECEPTORES = {'R1':(289827,6363825,1.5),\n",
    "                       'R2':(289398,6363754,1.5),\n",
    "                       'R3':(290587,6364355,1.5),\n",
    "                       'R4':(290736,6363776,1.5)}"
   ]
  },
  {
   "cell_type": "code",
   "execution_count": 23,
   "id": "24b2a468",
   "metadata": {},
   "outputs": [],
   "source": [
    "#Nivel de potencia \n",
    "LW_FUENTES = {'F1':104,'F2':104,'F3':92}\n"
   ]
  },
  {
   "cell_type": "code",
   "execution_count": 12,
   "id": "02f7856b",
   "metadata": {},
   "outputs": [],
   "source": [
    "def distancia(posicion1, posicion2):\n",
    "    posicion1 = np.array(posicion1)\n",
    "    posicion2 = np.array(posicion2)\n",
    "    return np.sqrt(((posicion1-posicion2)**2).sum())"
   ]
  },
  {
   "cell_type": "code",
   "execution_count": 15,
   "id": "26ca8c75",
   "metadata": {},
   "outputs": [],
   "source": [
    "def lp(Lw, distancia, piso_reflectante=False):\n",
    "    if piso_reflectante:\n",
    "        return Lw-10*np.log10(2*np.pi*(distancia**2))\n",
    "    return Lw-10*np.log10(4*np.pi*(distancia**2))"
   ]
  },
  {
   "cell_type": "code",
   "execution_count": 33,
   "id": "d3c662eb",
   "metadata": {},
   "outputs": [],
   "source": [
    "def lp_fuentes(posicion_receptor):\n",
    "    niveles = np.zeros((len(posicion_receptor)))\n",
    "    for indx,fuente in enumerate(POSICION_FUENTES):\n",
    "        niveles[indx] = lp(LW_FUENTES[fuente], distancia(POSICION_FUENTES[fuente], posicion_receptor))\n",
    "    return niveles"
   ]
  },
  {
   "cell_type": "code",
   "execution_count": 36,
   "id": "e1ac7438",
   "metadata": {},
   "outputs": [],
   "source": [
    "def lp_total(niveles):\n",
    "    return 10*np.log10((10**(niveles/10)).sum())"
   ]
  },
  {
   "cell_type": "code",
   "execution_count": 46,
   "id": "88243431",
   "metadata": {},
   "outputs": [],
   "source": [
    "lpr1 = np.round(lp_fuentes(POSICION_RECEPTORES['R1']),1)\n",
    "lpr2 = np.round(lp_fuentes(POSICION_RECEPTORES['R2']),1)\n",
    "lpr3 = np.round(lp_fuentes(POSICION_RECEPTORES['R3']),1)\n",
    "lpr4 = np.round(lp_fuentes(POSICION_RECEPTORES['R4']),1)"
   ]
  },
  {
   "cell_type": "code",
   "execution_count": 47,
   "id": "55d94726",
   "metadata": {},
   "outputs": [
    {
     "name": "stdout",
     "output_type": "stream",
     "text": [
      "lpr1=array([50.2, 50.4, 36.9])\n",
      "lpr2=array([40.3, 40.2, 28. ])\n",
      "lpr3=array([33.9, 34. , 22. ])\n",
      "lpr4=array([33.3, 33.3, 21.2])\n"
     ]
    }
   ],
   "source": [
    "print(f'{lpr1=}\\n{lpr2=}\\n{lpr3=}\\n{lpr4=}')"
   ]
  },
  {
   "cell_type": "code",
   "execution_count": 48,
   "id": "b2362c47",
   "metadata": {},
   "outputs": [],
   "source": [
    "lp1 = round(lp_total(lpr1),1)\n",
    "lp2 = round(lp_total(lpr2),1)\n",
    "lp3 = round(lp_total(lpr3),1)\n",
    "lp4 = round(lp_total(lpr4),1)"
   ]
  },
  {
   "cell_type": "code",
   "execution_count": 49,
   "id": "2a56e9a4",
   "metadata": {},
   "outputs": [
    {
     "name": "stdout",
     "output_type": "stream",
     "text": [
      "lp1=53.4\n",
      "lp2=43.4\n",
      "lp3=37.1\n",
      "lp4=36.4\n"
     ]
    }
   ],
   "source": [
    "print(f'{lp1=}\\n{lp2=}\\n{lp3=}\\n{lp4=}')"
   ]
  },
  {
   "cell_type": "code",
   "execution_count": null,
   "id": "8295daef",
   "metadata": {},
   "outputs": [],
   "source": [
    "#freq_oct=[63,125,250,500,1000,2000,4000,8000]\n",
    "#freq_ter=[50,63,80,100,125,160,200,250,315,400,500,630,800,1000,1250,1600,2000,2500,3150,4000,5000,6300,8000,10000]\n",
    "#lp_freq_oct=[]\n",
    "\n",
    "#diccionario=dict()\n",
    "\n",
    "#for n in freq_oct:\n",
    "    diccionario[frecuencias]"
   ]
  },
  {
   "cell_type": "code",
   "execution_count": null,
   "id": "252822d0",
   "metadata": {},
   "outputs": [],
   "source": []
  }
 ],
 "metadata": {
  "kernelspec": {
   "display_name": "udemy",
   "language": "python",
   "name": "python3"
  },
  "language_info": {
   "codemirror_mode": {
    "name": "ipython",
    "version": 3
   },
   "file_extension": ".py",
   "mimetype": "text/x-python",
   "name": "python",
   "nbconvert_exporter": "python",
   "pygments_lexer": "ipython3",
   "version": "3.11.0"
  },
  "vscode": {
   "interpreter": {
    "hash": "a215b56482ebc72680e1ba575b565bd9c8d4696fc6cc46696a4deb64ded12246"
   }
  }
 },
 "nbformat": 4,
 "nbformat_minor": 5
}
