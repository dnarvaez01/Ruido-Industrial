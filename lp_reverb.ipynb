{
 "cells": [
  {
   "cell_type": "code",
   "execution_count": 2,
   "metadata": {},
   "outputs": [],
   "source": [
    "import numpy as np\n",
    "from matplotlib import pyplot as plt"
   ]
  },
  {
   "cell_type": "code",
   "execution_count": 10,
   "metadata": {},
   "outputs": [],
   "source": [
    "z=1.5\n",
    "area_suelo=(20,30)\n",
    "Q=1"
   ]
  },
  {
   "cell_type": "code",
   "execution_count": 4,
   "metadata": {},
   "outputs": [],
   "source": [
    "LW_FUENTES={'F1':(65.1,78.3,87.6,96.4,99.8,99.1,94.3,84.4),\n",
    "            'F2':(65.1,78.3,87.6,96.4,99.8,99.1,94.3,84.4),\n",
    "            'F3':(53.1,66.2,75.7,84.1,87.3,87.5,82.3,72.2)}"
   ]
  },
  {
   "cell_type": "code",
   "execution_count": 28,
   "metadata": {},
   "outputs": [],
   "source": [
    "POSICION_FUENTES = {'F1':np.array([10,27]),\n",
    "                    'F2':np.array([16,27]),\n",
    "                    'F3':np.array([10,3])}"
   ]
  },
  {
   "cell_type": "code",
   "execution_count": 6,
   "metadata": {},
   "outputs": [],
   "source": [
    "AREA_ABSORCION = {'Pared1': 210,\n",
    "                  'Pared2': 210,\n",
    "                  'Pared3': 140,\n",
    "                  'Pared4': 140,\n",
    "                  'Suelo' : 600,\n",
    "                  'Cielo': 600}"
   ]
  },
  {
   "cell_type": "code",
   "execution_count": 9,
   "metadata": {},
   "outputs": [],
   "source": [
    "COEFICIENTES_ABSORCION = {'Pared1': (0.02,0.02,0.02,0.04,0.08,0.11),\n",
    "                          'Pared2': (0.02,0.02,0.02,0.04,0.08,0.11),\n",
    "                          'Pared3': (0.02,0.02,0.02,0.04,0.08,0.11),\n",
    "                          'Pared4': (0.02,0.02,0.02,0.04,0.08,0.11),\n",
    "                          'Cielo': (0.02,0.02,0.02,0.04,0.08,0.11),\n",
    "                          'Suelo' : (0.01,0.01,0.02,0.02,0.02,0.03)}"
   ]
  },
  {
   "cell_type": "code",
   "execution_count": 20,
   "metadata": {},
   "outputs": [],
   "source": [
    "#matriz \n",
    "matriz_posicion = np.zeros(area_suelo)"
   ]
  },
  {
   "cell_type": "code",
   "execution_count": 15,
   "metadata": {},
   "outputs": [],
   "source": [
    "#distancia r\n",
    "def distancia(matriz, posicion):\n",
    "    return np.sqrt(((matriz-posicion)**2).sum())"
   ]
  },
  {
   "cell_type": "code",
   "execution_count": 30,
   "metadata": {},
   "outputs": [
    {
     "ename": "ValueError",
     "evalue": "operands could not be broadcast together with shapes (20,30) (2,) ",
     "output_type": "error",
     "traceback": [
      "\u001b[1;31m---------------------------------------------------------------------------\u001b[0m",
      "\u001b[1;31mValueError\u001b[0m                                Traceback (most recent call last)",
      "\u001b[1;32mc:\\U\\ruido industrial\\Ruido-Industrial-main\\lp_reverb.ipynb Cell 9\u001b[0m in \u001b[0;36m<cell line: 1>\u001b[1;34m()\u001b[0m\n\u001b[1;32m----> <a href='vscode-notebook-cell:/c%3A/U/ruido%20industrial/Ruido-Industrial-main/lp_reverb.ipynb#X13sZmlsZQ%3D%3D?line=0'>1</a>\u001b[0m distancias \u001b[39m=\u001b[39m distancia(matriz_posicion,POSICION_FUENTES[\u001b[39m'\u001b[39;49m\u001b[39mF1\u001b[39;49m\u001b[39m'\u001b[39;49m])\n",
      "\u001b[1;32mc:\\U\\ruido industrial\\Ruido-Industrial-main\\lp_reverb.ipynb Cell 9\u001b[0m in \u001b[0;36mdistancia\u001b[1;34m(matriz, posicion)\u001b[0m\n\u001b[0;32m      <a href='vscode-notebook-cell:/c%3A/U/ruido%20industrial/Ruido-Industrial-main/lp_reverb.ipynb#X13sZmlsZQ%3D%3D?line=1'>2</a>\u001b[0m \u001b[39mdef\u001b[39;00m \u001b[39mdistancia\u001b[39m(matriz, posicion):\n\u001b[1;32m----> <a href='vscode-notebook-cell:/c%3A/U/ruido%20industrial/Ruido-Industrial-main/lp_reverb.ipynb#X13sZmlsZQ%3D%3D?line=2'>3</a>\u001b[0m     \u001b[39mreturn\u001b[39;00m np\u001b[39m.\u001b[39msqrt(((matriz\u001b[39m-\u001b[39;49mposicion)\u001b[39m*\u001b[39m\u001b[39m*\u001b[39m\u001b[39m2\u001b[39m)\u001b[39m.\u001b[39msum())\n",
      "\u001b[1;31mValueError\u001b[0m: operands could not be broadcast together with shapes (20,30) (2,) "
     ]
    }
   ],
   "source": [
    "distancias = distancia(matriz_posicion,POSICION_FUENTES['F1'])"
   ]
  },
  {
   "cell_type": "code",
   "execution_count": null,
   "metadata": {},
   "outputs": [],
   "source": [
    "def area_abs_eq(coeficiente,area):\n",
    "    return coeficiente*area"
   ]
  },
  {
   "cell_type": "code",
   "execution_count": null,
   "metadata": {},
   "outputs": [],
   "source": [
    "def lp(lw,distancia,directividad,area_abs):\n",
    "    \n",
    "    return lw + 10*np.log10((directividad/(4*np.pi*distancia**2))+4/area_abs)"
   ]
  }
 ],
 "metadata": {
  "kernelspec": {
   "display_name": "acus220",
   "language": "python",
   "name": "acus220"
  },
  "language_info": {
   "codemirror_mode": {
    "name": "ipython",
    "version": 3
   },
   "file_extension": ".py",
   "mimetype": "text/x-python",
   "name": "python",
   "nbconvert_exporter": "python",
   "pygments_lexer": "ipython3",
   "version": "3.8.10"
  },
  "orig_nbformat": 4
 },
 "nbformat": 4,
 "nbformat_minor": 2
}
